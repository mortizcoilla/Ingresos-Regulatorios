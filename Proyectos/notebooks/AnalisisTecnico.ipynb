{
 "cells": [
  {
   "cell_type": "markdown",
   "id": "41821c9c-5bf7-4534-943d-d4fc8bbc8820",
   "metadata": {},
   "source": [
    "# Análisis Integral de ETSA en el Mercado Eléctrico Chileno\r\n",
    "\r\n",
    "## 1. Objetivo\r\n",
    "\r\n",
    "Profundizar en el entendimiento de ETSA, una empresa clave en el mercado eléctrico chileno, a través de un análisis de su actividad de peajes y su interacción con las empresas generadoras, teniendo en cuenta el contexto regulatorio y de mercado.\r\n",
    "\r\n",
    "## 2. Datos Disponibles (Enero 2021 - Diciembre 2023)\r\n",
    "\r\n",
    "* Pagos de Peajes a ETSA por Empresas Generadoras: Incluye datos detallados de pagos realizados a ETSA.\r\n",
    "* Estructura de los Datos: El 'PagoTotal' representa la suma de 'PeajeInyección', 'PeajeRetiro' y 'PagoExención'. 'Periodo' indica la fecha en que se realizó el pago del peaje.\r\n",
    "\r\n",
    "## 3. Análisis Propuesto\r\n",
    "\r\n",
    "**3.1. Función y Rol de ETSA en el Mercado Eléctrico**\r\n",
    "\r\n",
    "* Exploración del papel de ETSA en el mercado eléctrico, su importancia y sus responsabilidades.\r\n",
    "* Interacción de ETSA con empresas generadoras y otros actores del mercado.\r\n",
    "\r\n",
    "**3.2. Influencia de Cambios Regulatorios y del Mercado**\r\n",
    "\r\n",
    "* Análisis del impacto de cambios regulatorios, como la Ley 21.400, en las operaciones de ETSA.\r\n",
    "* Evaluación de cómo las variaciones en las tarifas de peajes y eventos del mercado afectan a ETSA.\r\n",
    "\r\n",
    "**3.3. Análisis de Pagos de Peajes**\r\n",
    "\r\n",
    "* Estudio estadístico de los pagos de peajes a ETSA, identificando tendencias y correlaciones.\r\n",
    "* Interpretación de cómo las condiciones de mercado y regulatorias influyen en los pagos de peajes.\r\n",
    "\r\n",
    "## 4. Resultados Esperados\r\n",
    "\r\n",
    "* Comprensión detallada del papel y las dinámicas de ETSA en el mercado eléctrico chileno.\r\n",
    "* Insights sobre las respuestas y adaptaciones de ETSA ante cambios en el entorno de mercado y regulatorio.\r\n",
    "* Análisis detallado de los datos de peajes, revelando patrones y tendencias clave.\r\n",
    "\r\n",
    "## 5. Importancia del Análisis\r\n",
    "\r\n",
    "Este análisis proporcionará una visión completa de ETSA, destacando su impacto y adaptabilidad en un mercado eléctrico chileno en evolución. Será vital para comprender las interacciones entre las empresas de transmisión y otros participantes del mercado, así como las respuestas a los cambios regulatorios y de mercado.\r\n",
    "cambios regulatorios y de mercado.\r\n",
    "los cambios regulatorios y de mercado.\r\n"
   ]
  },
  {
   "cell_type": "code",
   "execution_count": 1,
   "id": "d3209f74-9c53-4d97-97ed-8009550ca903",
   "metadata": {},
   "outputs": [],
   "source": [
    "# Importación de bibliotecas para el manejo de datos, visualización y análisis estadístico\n",
    "\n",
    "import pandas as pd\n",
    "\n",
    "from sqlalchemy import create_engine\n",
    "\n",
    "import matplotlib.pyplot as plt\n",
    "import seaborn as sns\n",
    "\n",
    "import matplotlib.dates as mdates\n",
    "\n",
    "import statsmodels.api as sm\n",
    "\n",
    "from sklearn.model_selection import train_test_split\n",
    "from sklearn.linear_model import LinearRegression\n",
    "from sklearn.metrics import mean_squared_error, r2_score\n",
    "from sklearn.model_selection import cross_val_score\n",
    "from sklearn.linear_model import Ridge\n",
    "from sklearn.linear_model import Lasso"
   ]
  },
  {
   "cell_type": "code",
   "execution_count": 2,
   "id": "52f3b095-08e0-47c8-ba24-6d0dd399f371",
   "metadata": {},
   "outputs": [
    {
     "name": "stdout",
     "output_type": "stream",
     "text": [
      "Error en la conexión o ejecución de la consulta: No module named 'pyodbc'\n"
     ]
    }
   ],
   "source": [
    "def hist():\n",
    "    server = 'WHJ1TN13\\\\SQLEXPRESS'\n",
    "    database = 'i_rec'\n",
    "    conexion_str = f'mssql+pyodbc://{server}/{database}?driver=ODBC+Driver+17+for+SQL+Server&trusted_connection=yes'\n",
    "\n",
    "    try:\n",
    "        with create_engine(conexion_str).connect() as conn:\n",
    "            consulta_sql = \"SELECT * FROM [i_rec].[dbo].[ETSA]\"\n",
    "            df = pd.read_sql(consulta_sql, conn)\n",
    "\n",
    "            df['Periodo'] = pd.to_datetime(df['Periodo'])\n",
    "\n",
    "            df['Empresa Generación'] = df['Empresa Generación'].astype(str)\n",
    "\n",
    "            columnas_monetarias = ['PagoTotal', 'PeajeInyección', 'PeajeRetiro', 'PagoExención']\n",
    "            for columna in columnas_monetarias:\n",
    "                df[columna] = df[columna].astype(float)\n",
    "\n",
    "        return df\n",
    "\n",
    "    except Exception as e:\n",
    "        print(\"Error en la conexión o ejecución de la consulta:\", e)\n",
    "        return None\n",
    "\n",
    "\n",
    "df = hist()\n",
    "if df is not None:\n",
    "    # display(df.head()) \n",
    "    pass"
   ]
  },
  {
   "cell_type": "code",
   "execution_count": 3,
   "id": "e3a16edd-fcda-45ea-b3a0-92d1acddbf93",
   "metadata": {},
   "outputs": [
    {
     "name": "stdout",
     "output_type": "stream",
     "text": [
      "Error en la conexión o ejecución de la consulta: No module named 'pyodbc'\n"
     ]
    }
   ],
   "source": [
    "def agregar_y_procesar_por_periodo(df):\n",
    "    df_agregado = df.groupby('Periodo').agg({\n",
    "        'PagoTotal': 'sum',\n",
    "        'PeajeInyección': 'sum',\n",
    "        'PeajeRetiro': 'sum',\n",
    "        'PagoExención': 'sum'\n",
    "    }).reset_index()\n",
    "\n",
    "    df_agregado['PagoTotal'] = df_agregado['PagoTotal'].div(1000000).round(1)\n",
    "    df_agregado['PeajeInyección'] = df_agregado['PeajeInyección'].div(1000000).round(1)\n",
    "    df_agregado['PeajeRetiro'] = df_agregado['PeajeRetiro'].div(1000000).round(1)\n",
    "    df_agregado['PagoExención'] = df_agregado['PagoExención'].div(1000000).round(1)\n",
    "\n",
    "    return df_agregado\n",
    "\n",
    "\n",
    "df = hist()\n",
    "\n",
    "if df is not None:\n",
    "    df_procesado = agregar_y_procesar_por_periodo(df)\n",
    "    # display(df_procesado.head())\n",
    "    pass"
   ]
  },
  {
   "cell_type": "markdown",
   "id": "315e91f2-9a58-4c87-ad0a-4a5af5509313",
   "metadata": {},
   "source": [
    "## Análisis Exploratorio"
   ]
  },
  {
   "cell_type": "code",
   "execution_count": 4,
   "id": "4fb6993d-5147-49c0-8df4-427827ac0397",
   "metadata": {},
   "outputs": [
    {
     "ename": "NameError",
     "evalue": "name 'df_procesado' is not defined",
     "output_type": "error",
     "traceback": [
      "\u001b[1;31m---------------------------------------------------------------------------\u001b[0m",
      "\u001b[1;31mNameError\u001b[0m                                 Traceback (most recent call last)",
      "Cell \u001b[1;32mIn[4], line 2\u001b[0m\n\u001b[0;32m      1\u001b[0m \u001b[38;5;66;03m# Análisis descriptivo\u001b[39;00m\n\u001b[1;32m----> 2\u001b[0m descriptive_stats \u001b[38;5;241m=\u001b[39m \u001b[43mdf_procesado\u001b[49m\u001b[38;5;241m.\u001b[39mdrop(\u001b[38;5;124m\"\u001b[39m\u001b[38;5;124mPeriodo\u001b[39m\u001b[38;5;124m\"\u001b[39m, axis\u001b[38;5;241m=\u001b[39m\u001b[38;5;241m1\u001b[39m)\u001b[38;5;241m.\u001b[39mdescribe()\n\u001b[0;32m      3\u001b[0m descriptive_stats \u001b[38;5;241m=\u001b[39m descriptive_stats\u001b[38;5;241m.\u001b[39mround(\u001b[38;5;241m1\u001b[39m)\n\u001b[0;32m      4\u001b[0m display(descriptive_stats)\n",
      "\u001b[1;31mNameError\u001b[0m: name 'df_procesado' is not defined"
     ]
    }
   ],
   "source": [
    "# Análisis descriptivo\n",
    "descriptive_stats = df_procesado.drop(\"Periodo\", axis=1).describe()\n",
    "descriptive_stats = descriptive_stats.round(1)\n",
    "display(descriptive_stats)"
   ]
  },
  {
   "cell_type": "code",
   "execution_count": null,
   "id": "b82fa980-8347-4b32-9ed4-1449a9be6bc8",
   "metadata": {},
   "outputs": [],
   "source": [
    "sns.set(style=\"whitegrid\")\n",
    "\n",
    "if 'Periodo' in df_procesado.columns:\n",
    "    df_procesado['Periodo'] = pd.to_datetime(df_procesado['Periodo'])\n",
    "    df_procesado.set_index('Periodo', inplace=True)\n",
    "\n",
    "plt.figure(figsize=(15, 7))\n",
    "\n",
    "columnas = ['PagoTotal', 'PeajeInyección', 'PeajeRetiro', 'PagoExención']\n",
    "# Utilizando cuatro colores de la paleta previamente definida\n",
    "colores = [\"#01ACFB\", \"#23D2B5\", \"#034E7B\", \"#BEBEBE\"]\n",
    "\n",
    "for i, (columna, color) in enumerate(zip(columnas, colores), 1):\n",
    "    ax = plt.subplot(2, 2, i)\n",
    "    sns.lineplot(data=df_procesado, x=df_procesado.index, y=columna, color=color)\n",
    "    plt.title(f'{columna} a lo largo del Tiempo')\n",
    "    plt.xlabel('Periodo')\n",
    "    plt.ylabel(columna)\n",
    "\n",
    "    ax.xaxis.set_major_formatter(mdates.DateFormatter('%b-%y'))\n",
    "    plt.xticks(rotation=90)\n",
    "\n",
    "plt.tight_layout()\n",
    "plt.show()"
   ]
  },
  {
   "cell_type": "code",
   "execution_count": null,
   "id": "f1d486e1-8e4b-45e2-a84b-952ddfd0abff",
   "metadata": {},
   "outputs": [],
   "source": [
    "df['Periodo'] = pd.to_datetime(df['Periodo'])\n",
    "df['Trimestre'] = df['Periodo'].dt.to_period('Q')\n",
    "\n",
    "# Agrupar los datos por año y trimestre y sumar los diferentes tipos de pagos\n",
    "quarterly_payment_summary = df.groupby([df['Periodo'].dt.year, 'Trimestre']).agg({\n",
    "    'PagoTotal': 'sum',\n",
    "    'PeajeInyección': 'sum',\n",
    "    'PeajeRetiro': 'sum',\n",
    "    'PagoExención': 'sum'\n",
    "}).reset_index()\n",
    "\n",
    "# Ajustar los valores a millones\n",
    "quarterly_payment_summary[['PagoTotal', 'PeajeInyección', 'PeajeRetiro', 'PagoExención']] /= 1_000_000\n",
    "\n",
    "# Definiendo la paleta de colores\n",
    "palette_colors = [\"#01ACFB\", \"#23D2B5\", \"#034E7B\"]\n",
    "\n",
    "# Visualización de las tendencias trimestrales de los diferentes tipos de pagos en millones\n",
    "plt.figure(figsize=(15, 10))\n",
    "\n",
    "# Pagos Totales\n",
    "plt.subplot(2, 2, 1)\n",
    "sns.barplot(x='Trimestre', y='PagoTotal', hue='Periodo', data=quarterly_payment_summary, palette=palette_colors)\n",
    "plt.title('Pagos Totales a ETSA por Trimestre (millones)')\n",
    "plt.ylabel('Pago Total (millones)')\n",
    "plt.xticks(rotation=90)\n",
    "\n",
    "# Peaje Inyección\n",
    "plt.subplot(2, 2, 2)\n",
    "sns.barplot(x='Trimestre', y='PeajeInyección', hue='Periodo', data=quarterly_payment_summary, palette=palette_colors)\n",
    "plt.title('Peaje Inyección a ETSA por Trimestre (millones)')\n",
    "plt.ylabel('Peaje Inyección (millones)')\n",
    "plt.xticks(rotation=90)\n",
    "\n",
    "# Peaje Retiro\n",
    "plt.subplot(2, 2, 3)\n",
    "sns.barplot(x='Trimestre', y='PeajeRetiro', hue='Periodo', data=quarterly_payment_summary, palette=palette_colors)\n",
    "plt.title('Peaje Retiro a ETSA por Trimestre (millones)')\n",
    "plt.ylabel('Peaje Retiro (millones)')\n",
    "plt.xticks(rotation=90)\n",
    "\n",
    "# Pago Exención\n",
    "plt.subplot(2, 2, 4)\n",
    "sns.barplot(x='Trimestre', y='PagoExención', hue='Periodo', data=quarterly_payment_summary, palette=palette_colors)\n",
    "plt.title('Pago Exención a ETSA por Trimestre (millones)')\n",
    "plt.ylabel('Pago Exención (millones)')\n",
    "plt.xticks(rotation=90)\n",
    "\n",
    "plt.tight_layout()\n",
    "plt.show()\n"
   ]
  },
  {
   "cell_type": "markdown",
   "id": "67698cd7-d7c6-49ae-8c30-312a55577304",
   "metadata": {},
   "source": [
    "## Análisis de Estacionalidad "
   ]
  },
  {
   "cell_type": "code",
   "execution_count": null,
   "id": "8e4edd49-bac8-469b-ae84-c4258bd073e9",
   "metadata": {},
   "outputs": [],
   "source": [
    "if 'Periodo' in df.columns:\n",
    "    df['Periodo'] = pd.to_datetime(df['Periodo'])\n",
    "    df.set_index('Periodo', inplace=True)\n",
    "elif not isinstance(df.index, pd.DatetimeIndex):\n",
    "    df.index = pd.to_datetime(df.index)\n",
    "\n",
    "# Agrupando los datos por mes y sumando los PagosTotales\n",
    "monthly_payments = df['PagoTotal'].resample('M').sum()\n",
    "\n",
    "# Descomposición de la serie temporal en tendencia, estacionalidad y residuo\n",
    "decomposition = sm.tsa.seasonal_decompose(monthly_payments, model='additive')\n",
    "\n",
    "# Configuración de Seaborn para mejorar la estética del gráfico\n",
    "sns.set(style=\"whitegrid\")\n",
    "\n",
    "# Colores para cada subgráfico\n",
    "colores = [\"#01ACFB\", \"#23D2B5\", \"#034E7B\", \"#BEBEBE\"]\n",
    "\n",
    "# Visualización de la descomposición\n",
    "fig, axes = plt.subplots(4, 1, figsize=(15, 10), sharex=True)\n",
    "\n",
    "# Tendencia\n",
    "axes[0].plot(decomposition.trend, color=colores[0])\n",
    "axes[0].set_title('Tendencia')\n",
    "axes[0].tick_params(axis='x', rotation=90)\n",
    "\n",
    "# Estacionalidad\n",
    "axes[1].plot(decomposition.seasonal, color=colores[1])\n",
    "axes[1].set_title('Estacionalidad')\n",
    "axes[1].tick_params(axis='x', rotation=90)\n",
    "\n",
    "# Residuo\n",
    "axes[2].plot(decomposition.resid, color=colores[2])\n",
    "axes[2].set_title('Residuo')\n",
    "axes[2].tick_params(axis='x', rotation=90)\n",
    "\n",
    "# Observado\n",
    "axes[3].plot(decomposition.observed, color=colores[3])\n",
    "axes[3].set_title('Observado')\n",
    "axes[3].tick_params(axis='x', rotation=90)\n",
    "\n",
    "plt.tight_layout()\n",
    "plt.show()"
   ]
  },
  {
   "cell_type": "code",
   "execution_count": null,
   "id": "d58510bd-fff1-4c53-877e-ea2640966e57",
   "metadata": {},
   "outputs": [],
   "source": [
    "trend = decomposition.trend\n",
    "seasonal = decomposition.seasonal\n",
    "residual = decomposition.resid\n",
    "observed = decomposition.observed\n",
    "\n",
    "decomposition_df = pd.DataFrame({\n",
    "    'Tendencia': trend,\n",
    "    'Estacionalidad': seasonal,\n",
    "    'Residuo': residual,\n",
    "    'Observado': observed\n",
    "})\n",
    "\n",
    "print(decomposition_df.head())"
   ]
  },
  {
   "cell_type": "markdown",
   "id": "aff444f4-0aae-4fbd-9918-0aa2b9fa78aa",
   "metadata": {},
   "source": [
    "## Análisis de Regresión"
   ]
  },
  {
   "cell_type": "code",
   "execution_count": null,
   "id": "32d01b60-bae1-4d06-aeda-4204f33c62ca",
   "metadata": {},
   "outputs": [],
   "source": [
    "df_regresion = df.dropna(subset=['PagoTotal', 'PeajeInyección', 'PeajeRetiro', 'PagoExención'])\n",
    "\n",
    "X = df_regresion[['PeajeInyección', 'PeajeRetiro', 'PagoExención']]\n",
    "y = df_regresion['PagoTotal']"
   ]
  },
  {
   "cell_type": "code",
   "execution_count": null,
   "id": "3032393d-88e1-422c-b24e-6d3d1276f009",
   "metadata": {},
   "outputs": [],
   "source": [
    "X_train, X_test, y_train, y_test = train_test_split(X, y, test_size=0.2, random_state=0)\n",
    "\n",
    "modelo = LinearRegression()\n",
    "\n",
    "modelo.fit(X_train, y_train)\n",
    "\n",
    "y_pred = modelo.predict(X_test)\n",
    "\n",
    "mse = mean_squared_error(y_test, y_pred)\n",
    "r2 = r2_score(y_test, y_pred)\n",
    "\n",
    "print(f\"Error cuadrático medio: {mse}\")\n",
    "print(f\"Coeficiente de determinación R^2: {r2}\")"
   ]
  },
  {
   "cell_type": "code",
   "execution_count": null,
   "id": "02d2cf61-c1fd-4780-9eef-6508b739d3b0",
   "metadata": {},
   "outputs": [],
   "source": [
    "scores = cross_val_score(modelo, X, y, cv=5, scoring='neg_mean_squared_error')\n",
    "\n",
    "mse_scores = -scores\n",
    "mean_mse = mse_scores.mean()\n",
    "std_mse = mse_scores.std()\n",
    "\n",
    "print(f\"Error cuadrático medio promedio: {mean_mse}\")\n",
    "print(f\"Desviación estándar del MSE: {std_mse}\")"
   ]
  },
  {
   "cell_type": "code",
   "execution_count": null,
   "id": "4382d2c5-e125-4611-a11d-ac283c2316ba",
   "metadata": {},
   "outputs": [],
   "source": [
    "modelo_ridge = Ridge(alpha=1.0)\n",
    "\n",
    "scores_ridge = cross_val_score(modelo_ridge, X, y, cv=5, scoring='neg_mean_squared_error')\n",
    "\n",
    "mse_scores_ridge = -scores_ridge\n",
    "mean_mse_ridge = mse_scores_ridge.mean()\n",
    "std_mse_ridge = mse_scores_ridge.std()\n",
    "\n",
    "print(f\"Ridge - Error cuadrático medio promedio: {mean_mse_ridge}\")\n",
    "print(f\"Ridge - Desviación estándar del MSE: {std_mse_ridge}\")"
   ]
  },
  {
   "cell_type": "code",
   "execution_count": null,
   "id": "9d5427da-591c-4670-84c7-48edceaae144",
   "metadata": {},
   "outputs": [],
   "source": [
    "modelo_lasso = Lasso(alpha=0.1) \n",
    "\n",
    "scores_lasso = cross_val_score(modelo_lasso, X, y, cv=5, scoring='neg_mean_squared_error')\n",
    "\n",
    "mse_scores_lasso = -scores_lasso\n",
    "mean_mse_lasso = mse_scores_lasso.mean()\n",
    "std_mse_lasso = mse_scores_lasso.std()\n",
    "\n",
    "print(f\"Lasso - Error cuadrático medio promedio: {mean_mse_lasso}\")\n",
    "print(f\"Lasso - Desviación estándar del MSE: {std_mse_lasso}\")"
   ]
  },
  {
   "cell_type": "code",
   "execution_count": null,
   "id": "e99b68e4-8af7-4080-b4e0-49942e68fdab",
   "metadata": {},
   "outputs": [],
   "source": [
    "matriz_correlacion = df_procesado.corr()\n",
    "\n",
    "plt.figure(figsize=(15, 7))\n",
    "sns.heatmap(matriz_correlacion, annot=True, fmt=\".2f\", cmap=\"coolwarm\")\n",
    "plt.title(\"Matriz de Correlación entre Variables\")\n",
    "plt.show()\n",
    "print(matriz_correlacion)"
   ]
  },
  {
   "cell_type": "markdown",
   "id": "cb4c07ba-bc3c-44d2-ab2f-d250fabcf3ec",
   "metadata": {},
   "source": [
    "### Evolución de los factores que afectan los pagos de peajes de transmisión en Chile\n",
    "\n",
    "**2021**\n",
    "\n",
    "* **Precios de la energía:** Aumento del 3,1%. Podría reflejarse en mayores costos para las empresas generadoras, lo que podría influir en sus decisiones operativas y los pagos de peajes.\n",
    "* **Demanda de energía:** 73,3 TWh. Podría llevar a un mayor uso de la infraestructura de red y, por lo tanto, a un aumento en los pagos de peajes.\n",
    "* **Capacidad instalada y producción:** 25,8 GW. Podría ayudar a satisfacer la demanda y, por ende, a reducir los pagos de peajes.\n",
    "* **Políticas y regulaciones:** Revisión tarifaria 2021-2023. Podría tener un impacto directo en los costos de transmisión y, por lo tanto, en los pagos de peajes.\n",
    "* **Eventos económicos y climáticos:** Crisis hídrica. Podría haber afectado la producción de energía hidroeléctrica, lo que podría influir en los patrones de peajes.\n",
    "* **Inversiones en infraestructura de red:** 1.500 millones de dólares. Podrían ayudar a reducir los costos de transmisión.\n",
    "* **Datos financieros:** Aumento del 12% en el EBITDA de las empresas de generación. Podría estar relacionado con la estructura de costos y los pagos de peajes.\n",
    "\n",
    "**2022**\n",
    "\n",
    "* **Precios de la energía:** Aumento del 20%. Podría ejercer una presión significativa sobre las empresas generadoras y los pagos de peajes.\n",
    "* **Demanda de energía:** 76,1 TWh. Podría seguir aumentando los pagos de peajes.\n",
    "* **Políticas y regulaciones:** Revisión extraordinaria de los peajes de transmisión 2022-2024. Podría haber llevado a ajustes significativos en los costos de peajes.\n",
    "* **Eventos climáticos:** Continuación de la crisis hídrica. Podría haber seguido afectando la producción de energía hidroeléctrica.\n",
    "\n",
    "**2023**\n",
    "\n",
    "* **Precios de la energía:** Disminución del 10%. Podría aliviar los costos para las empresas generadoras y los pagos de peajes.\n",
    "* **Demanda de energía:** Aumento significativo a 123,1 TWh. Podría haber llevado a un incremento en los pagos de peajes.\n",
    "* **Políticas y regulaciones:** Reforma al mercado eléctrico. Podría tener un impacto sustancial en la estructura del mercado y los costos de transmisión.\n",
    "\n"
   ]
  },
  {
   "cell_type": "markdown",
   "id": "206f8bd9-762a-4b8a-97ee-4e43ee1f0dcc",
   "metadata": {
    "jp-MarkdownHeadingCollapsed": true
   },
   "source": [
    "## Función y Rol de ETSA en el Mercado Eléctrico"
   ]
  }
 ],
 "metadata": {
  "kernelspec": {
   "display_name": "Python 3 (ipykernel)",
   "language": "python",
   "name": "python3"
  },
  "language_info": {
   "codemirror_mode": {
    "name": "ipython",
    "version": 3
   },
   "file_extension": ".py",
   "mimetype": "text/x-python",
   "name": "python",
   "nbconvert_exporter": "python",
   "pygments_lexer": "ipython3",
   "version": "3.9.5"
  }
 },
 "nbformat": 4,
 "nbformat_minor": 5
}
